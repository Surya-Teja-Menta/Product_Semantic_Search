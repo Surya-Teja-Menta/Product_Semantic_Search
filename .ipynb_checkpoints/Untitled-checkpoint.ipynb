{
 "cells": [
  {
   "cell_type": "code",
   "execution_count": 9,
   "id": "78e6300c",
   "metadata": {},
   "outputs": [],
   "source": [
    "import pandas as pd,pickle,numpy as np"
   ]
  },
  {
   "cell_type": "code",
   "execution_count": 12,
   "id": "beedc2b1",
   "metadata": {},
   "outputs": [],
   "source": [
    "#df = pd.read_pickle('data/df.pkl')\n",
    "df  = pd.DataFrame(np.load('data/df.npy',allow_pickle = True),columns = ['title','link','price','embeddings','score'])"
   ]
  },
  {
   "cell_type": "code",
   "execution_count": 14,
   "id": "3c28ee04",
   "metadata": {},
   "outputs": [
    {
     "data": {
      "text/plain": [
       "numpy.ndarray"
      ]
     },
     "execution_count": 14,
     "metadata": {},
     "output_type": "execute_result"
    }
   ],
   "source": [
    "type(df['embeddings'][3])"
   ]
  },
  {
   "cell_type": "code",
   "execution_count": null,
   "id": "38c0365e",
   "metadata": {},
   "outputs": [],
   "source": []
  },
  {
   "cell_type": "code",
   "execution_count": null,
   "id": "8df4a257",
   "metadata": {},
   "outputs": [],
   "source": []
  }
 ],
 "metadata": {
  "kernelspec": {
   "display_name": "Python 3",
   "language": "python",
   "name": "python3"
  },
  "language_info": {
   "codemirror_mode": {
    "name": "ipython",
    "version": 3
   },
   "file_extension": ".py",
   "mimetype": "text/x-python",
   "name": "python",
   "nbconvert_exporter": "python",
   "pygments_lexer": "ipython3",
   "version": "3.7.16"
  }
 },
 "nbformat": 4,
 "nbformat_minor": 5
}
